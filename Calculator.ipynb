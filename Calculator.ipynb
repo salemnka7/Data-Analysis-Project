{
 "cells": [
  {
   "cell_type": "code",
   "execution_count": null,
   "id": "a4b36aac",
   "metadata": {},
   "outputs": [
    {
     "name": "stdout",
     "output_type": "stream",
     "text": [
      "Select operation.\n",
      "1.Add\n",
      "2.Subtract\n",
      "3.Multiply\n",
      "4.Divide\n",
      "5.Power\n",
      "6.Mod\n",
      "7.Sqrt\n",
      "Enter choice(1/2/3/4/5/6/7): 7\n",
      "Enter first number: 25\n",
      "Enter second number: 2\n",
      "The sqrt of  25.0 = 5.0\n"
     ]
    }
   ],
   "source": [
    "def add(x, y):\n",
    "    return x + y\n",
    "def subtract(x, y):\n",
    "    return x - y\n",
    "def multiply(x, y):\n",
    "    return x * y\n",
    "\n",
    "def divide(x, y):\n",
    "    return x / y\n",
    "\n",
    "def power (x,y):\n",
    "    return x**y\n",
    "\n",
    "def mod (x,y):\n",
    "    return x%y\n",
    "\n",
    "def sqrt (x,y):\n",
    "    return x**(1/y)\n",
    "\n",
    "print(\"Select operation.\")\n",
    "print(\"1.Add\")\n",
    "print(\"2.Subtract\")\n",
    "print(\"3.Multiply\")\n",
    "print(\"4.Divide\")\n",
    "print(\"5.Power\")\n",
    "print(\"6.Mod\")\n",
    "print(\"7.Sqrt\")\n",
    "while True:\n",
    "    # take input from the user\n",
    "    choice = input(\"Enter choice(1/2/3/4/5/6/7): \")\n",
    "\n",
    "    # check if choice is one of the seven options\n",
    "    if choice in ('1', '2', '3', '4' , '5' ,'6' ,'7'):\n",
    "        try:\n",
    "            num1 = float(input(\"Enter first number: \"))\n",
    "            num2 = float(input(\"Enter second number: \"))\n",
    "        except ValueError:\n",
    "            print(\"Invalid input. Please enter a number.\")\n",
    "            continue\n",
    "\n",
    "        if choice == '1':\n",
    "            print(num1, \"+\", num2, \"=\", add(num1, num2))\n",
    "\n",
    "        elif choice == '2':\n",
    "            print(num1, \"-\", num2, \"=\", subtract(num1, num2))\n",
    "\n",
    "        elif choice == '3':\n",
    "            print(num1, \"*\", num2, \"=\", multiply(num1, num2))\n",
    "\n",
    "        elif choice == '4':\n",
    "            print(num1, \"/\", num2, \"=\", divide(num1, num2))\n",
    "            \n",
    "        elif choice == '5':\n",
    "            print(num1, \"**\", num2, \"=\", power(num1, num2))\n",
    "        \n",
    "        elif choice == '6':\n",
    "            print(num1, \"%\" , num2, \"=\" , mod(num1 , num2))\n",
    "            \n",
    "        elif choice == '7':\n",
    "            print(\"The sqrt of \" ,num1, \"=\" , sqrt(num1,num2))\n",
    "        \n",
    "        \n",
    "        next_calculation = input(\"Let's do next calculation? (yes/no): \")\n",
    "        if next_calculation == \"no\":\n",
    "          break\n",
    "    else:\n",
    "        print(\"Invalid Input\")"
   ]
  },
  {
   "cell_type": "code",
   "execution_count": null,
   "id": "5c25abda",
   "metadata": {},
   "outputs": [],
   "source": []
  },
  {
   "cell_type": "code",
   "execution_count": null,
   "id": "6a579875",
   "metadata": {},
   "outputs": [],
   "source": []
  }
 ],
 "metadata": {
  "kernelspec": {
   "display_name": "Python 3",
   "language": "python",
   "name": "python3"
  },
  "language_info": {
   "codemirror_mode": {
    "name": "ipython",
    "version": 3
   },
   "file_extension": ".py",
   "mimetype": "text/x-python",
   "name": "python",
   "nbconvert_exporter": "python",
   "pygments_lexer": "ipython3",
   "version": "3.8.8"
  }
 },
 "nbformat": 4,
 "nbformat_minor": 5
}
